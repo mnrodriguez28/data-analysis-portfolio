{
 "cells": [
  {
   "cell_type": "markdown",
   "id": "bcb53adf",
   "metadata": {},
   "source": [
    "# Asociación entre perfeccionismo y síntomas de depresión en estudiantes universitarios durante el aislamiento por COVID-19"
   ]
  },
  {
   "cell_type": "markdown",
   "id": "40a1e407",
   "metadata": {},
   "source": [
    "**Autores:** Rodríguez, Mariano (a, b); Romero, Agustín (b); Puddington, Martín (a, b, c); Muzio, Rubén (a, b)\n",
    "\n",
    "a. Grupo de Aprendizaje y Cognición Comparada, Laboratorio de Biología del Comportamiento, Instituto de Biología y Medicina Experimental (IBYME-CONICET), Buenos Aires, Argentina. <br>\n",
    "b. Instituto de Investigaciones, Facultad de Psicología, Universidad de Buenos Aires (UBA), Buenos Aires, Argentina. <br>\n",
    "c. Departamento de Ciencias de la Salud y Seguridad Social, Universidad Nacional de Tres de Febrero (UNTREF), Buenos Aires, Argentina. <br>\n",
    "\n",
    "Este trabajo fue enviado para su publicación a *International Journal of Psychology*. Actualmente se encuentra en la etapa de revisión (octubre, 2021). <br>\n",
    "Además, fue presentado en la *XVIII Reunión Nacional y VII Encuentro Internacional de la Asociación Argentina de Ciencias del Comportamiento*, con el título \"Asociación diferencial del perfeccionismo con distintos tipos de síntomas de depresión\", llevada a cabo en septiembre de 2021. \n",
    "<br>\n",
    "<br>\n",
    "El análisis de los datos fue realizado con R.\n",
    "\n",
    "### Introducción\n",
    "\n",
    "Numerosos estudios muestran evidencias que apoyan la idea que el perfeccionismo desadaptativo se asocia con la presencia de síntomas depresivos. Sin embargo, los síntomas depresivos han sido tradicionalmente evaluados como una única medida, por ejemplo tomando el puntaje total del inventario de Beck. Este inventario es uno de los instrumentos más usados para evaluar sintomatología depresiva. Pero dado que no hay un acuerdo sobre su estructura factorial, lo más usual es que no se analicen las distintas dimensiones de la depresión. De esta manera se pierde información valiosa sobre diferencias cualitativas entre personas con un mismo puntaje total de depresión. El objetivo del estudio fue determinar qué síntomas depresivos estuvieron más asociados con el perfeccionismo desadaptativo y con otros factores durante el aislamiento por COVID-19.\n",
    "\n",
    "### Metodología\n",
    "\n",
    "376 estudiantes de la Facultad de Psicología de la Universidad de Buenos Aires completaron la Almost Perfect Scale Revised (APSR), la Escala de Intolerancia a la Frustración (EIF) y el Inventario de Depresión de Beck (BDI-II) durante el período de aislamiento social, preventivo y obligatorio por COVID-19 en 2020. También se consideró el nivel de avance en la carrera (ingresante, intermedio, avanzado). La edad media fue de 23,6 años (DE = 3,62). 345 participantes fueron mujeres (91,8%).\n",
    "<br>\n",
    "<br>\n",
    "Subescalas APSR:\n",
    "- Altos estándares: evalúa la presencia de estándares elevados de desempeño.\n",
    "- Orden: mide la preferencia por el orden y la pulcritud.\n",
    "- Discrepancia: evalúa el grado en que los sujetos se perciben a sí mismos como incapaces para alcanzar sus propios estándares de desempeño. \n",
    "\n",
    "Subescalas EIF:\n",
    "- Derechos: representa conflictos interpersonales en los que la persona se ve obligada a hacer algo no deseado o donde otras personas no se comportan como se esperaba. \n",
    "- Intolerancia emocional: expresa la incapacidad de soportar la angustia y la necesidad de control emocional. \n",
    "- Intolerancia a la incomodidad: describe la angustia experimentada cuando la persona se ve obligada a realizar una tarea difícil.\n",
    "- Logro: expresa frustración relacionada con hacer una tarea o tener un rendimiento óptimo.\n",
    "\n",
    "### Resultados\n",
    "\n",
    "Un modelo de regresión lineal múltiple fue capaz de explicar hasta un 41% de la varianza de los síntomas depresivos medidos mediante el BDI-II (R2 = 0.4148, p < 0.001). Según las correlaciones parciales, el principal predictor dentro del modelo fue la subescala Discrepancia de la APSR (pR2 = 0.2). La subescala Intolerancia Emocional de la EIF (pR2 = 0.05) y el Progreso en la carrera (pR2s = 0.03) también fueron predictores relevantes. La edad, la subescala Altos estándares de la APSR y la subescala Derecho de la EIF hicieron contribuciones menores a la varianza explicada (pR2s <0.02). <br>\n",
    "Un segundo análisis mediante correlaciones canónicas mostró que el perfeccionismo desadaptativo estaba asociado principalmente con síntomas *cognitivos* de la depresión, en particular síntomas que indican una actitud negativa hacia uno mismo (Fracaso, Sentimiento de culpa, Autocrítica, Desvalorización, Disconformidad con uno mismo). Mientras que la Intolerancia emocional estuvo más asociada con síntomas *core* de la depresión (Tristeza y Pérdida de interés).\n",
    "\n",
    "### Discusión\n",
    "\n",
    "Estos resultados sugieren que el perfeccionismo desadaptativo deteriora la visión que tiene la persona sobre sí mismo. Por lo tanto, la autoestima podría ser una variable mediadora y un posible mecanismo para explicar la asociación entre perfeccionismo y depresión."
   ]
  }
 ],
 "metadata": {
  "kernelspec": {
   "display_name": "Python 3",
   "language": "python",
   "name": "python3"
  },
  "language_info": {
   "codemirror_mode": {
    "name": "ipython",
    "version": 3
   },
   "file_extension": ".py",
   "mimetype": "text/x-python",
   "name": "python",
   "nbconvert_exporter": "python",
   "pygments_lexer": "ipython3",
   "version": "3.8.8"
  }
 },
 "nbformat": 4,
 "nbformat_minor": 5
}
