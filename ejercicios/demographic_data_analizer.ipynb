{
 "cells": [
  {
   "cell_type": "markdown",
   "id": "e3a5cae0",
   "metadata": {},
   "source": [
    "# Demographic Data Analizer\n",
    "\n",
    "Este ejercicio forma parte del curso *Data Analysis with Python* de [freeCodeCamp](https://www.freecodecamp.org/learn/data-analysis-with-python/).\n",
    "\n",
    "**Consigna.** Dado un conjunto de datos demográficos extraídos de un censo realizado en 1994, se debe responder las siguientes preguntas:\n",
    "\n",
    "1. ¿Cuántas personas de cada grupo étnico están representadas en este conjunto de datos? \n",
    "2. ¿Cuál es la edad promedio de los hombres?\n",
    "3. ¿Cuál es el porcentaje de personas que tienen un `Bachelors`?\n",
    "4. ¿Qué porcentaje de personas con educación avanzada (`Bachelors`, `Masters`, o `Doctorate`) gana más de 50K? ¿Qué porcentaje de personas sin educación avanzada gana más de 50K?\n",
    "5. ¿Cuál es el número mínimo de horas que trabaja una persona por semana?\n",
    "6. ¿Qué porcentaje de las personas que trabajan la cantidad mínima de horas por semana tienen un salario de más de 50K?\n",
    "7. ¿Qué país tiene el porcentaje más alto de personas que ganan más de 50K y cuál es ese porcentaje?\n",
    "8. ¿Cuál es la ocupación más popular para aquellos que ganan más de 50K en India?"
   ]
  },
  {
   "cell_type": "code",
   "execution_count": 1,
   "id": "ae5fa881",
   "metadata": {},
   "outputs": [],
   "source": [
    "# Import libraries\n",
    "import pandas as pd"
   ]
  },
  {
   "cell_type": "code",
   "execution_count": 2,
   "id": "3bdfcb56",
   "metadata": {
    "scrolled": true
   },
   "outputs": [
    {
     "data": {
      "text/html": [
       "<div>\n",
       "<style scoped>\n",
       "    .dataframe tbody tr th:only-of-type {\n",
       "        vertical-align: middle;\n",
       "    }\n",
       "\n",
       "    .dataframe tbody tr th {\n",
       "        vertical-align: top;\n",
       "    }\n",
       "\n",
       "    .dataframe thead th {\n",
       "        text-align: right;\n",
       "    }\n",
       "</style>\n",
       "<table border=\"1\" class=\"dataframe\">\n",
       "  <thead>\n",
       "    <tr style=\"text-align: right;\">\n",
       "      <th></th>\n",
       "      <th>age</th>\n",
       "      <th>workclass</th>\n",
       "      <th>fnlwgt</th>\n",
       "      <th>education</th>\n",
       "      <th>education-num</th>\n",
       "      <th>marital-status</th>\n",
       "      <th>occupation</th>\n",
       "      <th>relationship</th>\n",
       "      <th>race</th>\n",
       "      <th>sex</th>\n",
       "      <th>capital-gain</th>\n",
       "      <th>capital-loss</th>\n",
       "      <th>hours-per-week</th>\n",
       "      <th>native-country</th>\n",
       "      <th>salary</th>\n",
       "    </tr>\n",
       "  </thead>\n",
       "  <tbody>\n",
       "    <tr>\n",
       "      <th>0</th>\n",
       "      <td>39</td>\n",
       "      <td>State-gov</td>\n",
       "      <td>77516</td>\n",
       "      <td>Bachelors</td>\n",
       "      <td>13</td>\n",
       "      <td>Never-married</td>\n",
       "      <td>Adm-clerical</td>\n",
       "      <td>Not-in-family</td>\n",
       "      <td>White</td>\n",
       "      <td>Male</td>\n",
       "      <td>2174</td>\n",
       "      <td>0</td>\n",
       "      <td>40</td>\n",
       "      <td>United-States</td>\n",
       "      <td>&lt;=50K</td>\n",
       "    </tr>\n",
       "    <tr>\n",
       "      <th>1</th>\n",
       "      <td>50</td>\n",
       "      <td>Self-emp-not-inc</td>\n",
       "      <td>83311</td>\n",
       "      <td>Bachelors</td>\n",
       "      <td>13</td>\n",
       "      <td>Married-civ-spouse</td>\n",
       "      <td>Exec-managerial</td>\n",
       "      <td>Husband</td>\n",
       "      <td>White</td>\n",
       "      <td>Male</td>\n",
       "      <td>0</td>\n",
       "      <td>0</td>\n",
       "      <td>13</td>\n",
       "      <td>United-States</td>\n",
       "      <td>&lt;=50K</td>\n",
       "    </tr>\n",
       "    <tr>\n",
       "      <th>2</th>\n",
       "      <td>38</td>\n",
       "      <td>Private</td>\n",
       "      <td>215646</td>\n",
       "      <td>HS-grad</td>\n",
       "      <td>9</td>\n",
       "      <td>Divorced</td>\n",
       "      <td>Handlers-cleaners</td>\n",
       "      <td>Not-in-family</td>\n",
       "      <td>White</td>\n",
       "      <td>Male</td>\n",
       "      <td>0</td>\n",
       "      <td>0</td>\n",
       "      <td>40</td>\n",
       "      <td>United-States</td>\n",
       "      <td>&lt;=50K</td>\n",
       "    </tr>\n",
       "  </tbody>\n",
       "</table>\n",
       "</div>"
      ],
      "text/plain": [
       "   age         workclass  fnlwgt  education  education-num  \\\n",
       "0   39         State-gov   77516  Bachelors             13   \n",
       "1   50  Self-emp-not-inc   83311  Bachelors             13   \n",
       "2   38           Private  215646    HS-grad              9   \n",
       "\n",
       "       marital-status         occupation   relationship   race   sex  \\\n",
       "0       Never-married       Adm-clerical  Not-in-family  White  Male   \n",
       "1  Married-civ-spouse    Exec-managerial        Husband  White  Male   \n",
       "2            Divorced  Handlers-cleaners  Not-in-family  White  Male   \n",
       "\n",
       "   capital-gain  capital-loss  hours-per-week native-country salary  \n",
       "0          2174             0              40  United-States  <=50K  \n",
       "1             0             0              13  United-States  <=50K  \n",
       "2             0             0              40  United-States  <=50K  "
      ]
     },
     "execution_count": 2,
     "metadata": {},
     "output_type": "execute_result"
    }
   ],
   "source": [
    "# Read data\n",
    "df = pd.read_csv(\"adult.data.csv\")\n",
    "df.head(3)"
   ]
  },
  {
   "cell_type": "code",
   "execution_count": 5,
   "id": "d03daf0c",
   "metadata": {
    "scrolled": true
   },
   "outputs": [
    {
     "data": {
      "text/plain": [
       "(32561, 15)"
      ]
     },
     "execution_count": 5,
     "metadata": {},
     "output_type": "execute_result"
    }
   ],
   "source": [
    "df.shape"
   ]
  },
  {
   "cell_type": "code",
   "execution_count": 4,
   "id": "95827e8f",
   "metadata": {},
   "outputs": [
    {
     "name": "stdout",
     "output_type": "stream",
     "text": [
      "<class 'pandas.core.frame.DataFrame'>\n",
      "RangeIndex: 32561 entries, 0 to 32560\n",
      "Data columns (total 15 columns):\n",
      " #   Column          Non-Null Count  Dtype \n",
      "---  ------          --------------  ----- \n",
      " 0   age             32561 non-null  int64 \n",
      " 1   workclass       32561 non-null  object\n",
      " 2   fnlwgt          32561 non-null  int64 \n",
      " 3   education       32561 non-null  object\n",
      " 4   education-num   32561 non-null  int64 \n",
      " 5   marital-status  32561 non-null  object\n",
      " 6   occupation      32561 non-null  object\n",
      " 7   relationship    32561 non-null  object\n",
      " 8   race            32561 non-null  object\n",
      " 9   sex             32561 non-null  object\n",
      " 10  capital-gain    32561 non-null  int64 \n",
      " 11  capital-loss    32561 non-null  int64 \n",
      " 12  hours-per-week  32561 non-null  int64 \n",
      " 13  native-country  32561 non-null  object\n",
      " 14  salary          32561 non-null  object\n",
      "dtypes: int64(6), object(9)\n",
      "memory usage: 2.6+ MB\n"
     ]
    }
   ],
   "source": [
    "df.info()"
   ]
  },
  {
   "cell_type": "markdown",
   "id": "27ac39ab",
   "metadata": {},
   "source": [
    "El dataset tiene 32561 observaciones y 15 columnas. Algunas de las variables son edad, género, estado civil, nivel educativo alcanzado, ocupación, salario, entre otras. No tiene valores perdidos o nulos. Y el tipo de dato parece ser el adecuado para cada columna."
   ]
  },
  {
   "cell_type": "markdown",
   "id": "22538c77",
   "metadata": {},
   "source": [
    "**1. How many of each race are represented in this dataset?**"
   ]
  },
  {
   "cell_type": "code",
   "execution_count": 14,
   "id": "ba7ad769",
   "metadata": {},
   "outputs": [
    {
     "name": "stdout",
     "output_type": "stream",
     "text": [
      "Number of each race:\n",
      " White                 27816\n",
      "Black                  3124\n",
      "Asian-Pac-Islander     1039\n",
      "Amer-Indian-Eskimo      311\n",
      "Other                   271\n",
      "Name: race, dtype: int64\n"
     ]
    }
   ],
   "source": [
    "race_count = df[\"race\"].value_counts()\n",
    "print(\"Number of each race:\\n\", race_count)"
   ]
  },
  {
   "cell_type": "markdown",
   "id": "41a1a7c6",
   "metadata": {},
   "source": [
    "**2. What is the average age of men?**"
   ]
  },
  {
   "cell_type": "code",
   "execution_count": 10,
   "id": "8fc022dc",
   "metadata": {},
   "outputs": [
    {
     "name": "stdout",
     "output_type": "stream",
     "text": [
      "Average age of men: 39.4\n"
     ]
    }
   ],
   "source": [
    "average_age_men = round(df[df[\"sex\"] == \"Male\"][\"age\"].mean(), 1)\n",
    "print(\"Average age of men:\", average_age_men)"
   ]
  },
  {
   "cell_type": "markdown",
   "id": "dfacfd3a",
   "metadata": {},
   "source": [
    "**3. What is the percentage of people who have a Bachelor's degree?**"
   ]
  },
  {
   "cell_type": "code",
   "execution_count": 8,
   "id": "8b30d683",
   "metadata": {},
   "outputs": [
    {
     "name": "stdout",
     "output_type": "stream",
     "text": [
      "Percentage with Bachelors degrees: 16.4%\n"
     ]
    }
   ],
   "source": [
    "percentage_bachelors = round(df[df[\"education\"] == \"Bachelors\"].shape[0] / df.shape[0] * 100, 1)\n",
    "print(f\"Percentage with Bachelors degrees: {percentage_bachelors}%\")"
   ]
  },
  {
   "cell_type": "markdown",
   "id": "8dedaec7",
   "metadata": {},
   "source": [
    "**4. What percentage of people with advanced education (`Bachelors`, `Masters`, or `Doctorate`) make more than 50K? What percentage of people without advanced education make more than 50K?**"
   ]
  },
  {
   "cell_type": "code",
   "execution_count": 9,
   "id": "d9601c0d",
   "metadata": {},
   "outputs": [
    {
     "name": "stdout",
     "output_type": "stream",
     "text": [
      "Percentage with higher education that earn >50K: 46.5%\n",
      "Percentage without higher education that earn >50K: 17.4%\n"
     ]
    }
   ],
   "source": [
    "# with and without `Bachelors`, `Masters`, or `Doctorate`\n",
    "higher_education = df[df.education.isin([\"Bachelors\",\"Masters\",\"Doctorate\"])]\n",
    "lower_education = df[~df.education.isin([\"Bachelors\",\"Masters\",\"Doctorate\"])]\n",
    "\n",
    "# percentage with salary >50K\n",
    "higher_education_rich = round(higher_education[higher_education[\"salary\"] == \">50K\"].shape[0] / higher_education.shape[0] * 100, 1)\n",
    "lower_education_rich = round(lower_education[lower_education[\"salary\"] == \">50K\"].shape[0] / lower_education.shape[0] * 100, 1)\n",
    "   \n",
    "print(f\"Percentage with higher education that earn >50K: {higher_education_rich}%\")\n",
    "print(f\"Percentage without higher education that earn >50K: {lower_education_rich}%\")"
   ]
  },
  {
   "cell_type": "markdown",
   "id": "b7ff48cd",
   "metadata": {},
   "source": [
    "**5. What is the minimum number of hours a person works per week?**"
   ]
  },
  {
   "cell_type": "code",
   "execution_count": 11,
   "id": "9412e992",
   "metadata": {},
   "outputs": [
    {
     "name": "stdout",
     "output_type": "stream",
     "text": [
      "Min work time: 1 hours/week\n"
     ]
    }
   ],
   "source": [
    "min_work_hours = df[\"hours-per-week\"].min()\n",
    "print(f\"Min work time: {min_work_hours} hours/week\")"
   ]
  },
  {
   "cell_type": "markdown",
   "id": "7d4c8b2b",
   "metadata": {},
   "source": [
    "**6. What percentage of the people who work the minimum number of hours per week have a salary of >50K?**"
   ]
  },
  {
   "cell_type": "code",
   "execution_count": 12,
   "id": "2f076168",
   "metadata": {},
   "outputs": [
    {
     "name": "stdout",
     "output_type": "stream",
     "text": [
      "Percentage of rich among those who work fewest hours: 10.0%\n"
     ]
    }
   ],
   "source": [
    "num_min_workers = df[df[\"hours-per-week\"] == min_work_hours]\n",
    "rich_percentage = round(num_min_workers[num_min_workers[\"salary\"] == \">50K\"].shape[0] / num_min_workers.shape[0] * 100, 1)\n",
    "print(f\"Percentage of rich among those who work fewest hours: {rich_percentage}%\")"
   ]
  },
  {
   "cell_type": "markdown",
   "id": "8a0f9914",
   "metadata": {},
   "source": [
    "**7. What country has the highest percentage of people that earn >50K and what is that percentage?**"
   ]
  },
  {
   "cell_type": "code",
   "execution_count": 21,
   "id": "36e5362b",
   "metadata": {},
   "outputs": [
    {
     "name": "stdout",
     "output_type": "stream",
     "text": [
      "Country with highest percentage of rich: Iran\n",
      "Highest percentage of rich people in country: 41.9%\n"
     ]
    }
   ],
   "source": [
    "highest_country = (df[df[\"salary\"] == \">50K\"][\"native-country\"].value_counts() / df[\"native-country\"].value_counts() * 100).sort_values(ascending = False)\n",
    "highest_earning_country = highest_country.idxmax()\n",
    "highest_earning_country_percentage = round(highest_country.max(), 1)\n",
    "print(\"Country with highest percentage of rich:\", highest_earning_country)\n",
    "print(f\"Highest percentage of rich people in country: {highest_earning_country_percentage}%\")"
   ]
  },
  {
   "cell_type": "markdown",
   "id": "4aa32702",
   "metadata": {},
   "source": [
    "**8. Identify the most popular occupation for those who earn >50K in India.**"
   ]
  },
  {
   "cell_type": "code",
   "execution_count": 13,
   "id": "803cab2e",
   "metadata": {},
   "outputs": [
    {
     "name": "stdout",
     "output_type": "stream",
     "text": [
      "Top occupations in India: Prof-specialty\n"
     ]
    }
   ],
   "source": [
    "top_IN_occupation = df.loc[(df[\"native-country\"] == \"India\") & (df[\"salary\"] == \">50K\")][\"occupation\"].value_counts().idxmax()\n",
    "print(\"Top occupations in India:\", top_IN_occupation)"
   ]
  }
 ],
 "metadata": {
  "kernelspec": {
   "display_name": "Python 3",
   "language": "python",
   "name": "python3"
  },
  "language_info": {
   "codemirror_mode": {
    "name": "ipython",
    "version": 3
   },
   "file_extension": ".py",
   "mimetype": "text/x-python",
   "name": "python",
   "nbconvert_exporter": "python",
   "pygments_lexer": "ipython3",
   "version": "3.8.8"
  }
 },
 "nbformat": 4,
 "nbformat_minor": 5
}
