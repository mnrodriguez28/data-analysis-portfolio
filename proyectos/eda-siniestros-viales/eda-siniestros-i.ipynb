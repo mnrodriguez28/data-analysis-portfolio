{
 "cells": [
  {
   "cell_type": "markdown",
   "id": "a84fc34c",
   "metadata": {},
   "source": [
    "# Análisis Exploratorio de Datos: Siniestros viales en la Ciudad de Buenos Aires (2015-2018). Parte I (Python)"
   ]
  },
  {
   "cell_type": "markdown",
   "id": "4bd0258e",
   "metadata": {},
   "source": [
    "En esta ocasión, se presenta un análisis exploratorio del dataset de \"víctimas de siniestros viales\" de la Ciudad de Buenos Aires. Los datos fueron descargados de [data.buenosaires.gob.ar](https://data.buenosaires.gob.ar/dataset/victimas-siniestros-viales). Contiene información sobre las víctimas de siniestros viales ocurridos en la Ciudad desde el año 2015 hasta 2018. Los datos incluyen fecha y ubicación del hecho y tipo de transporte involucrado. Además se especifica el género y edad (en años) de las víctimas y el tipo de lesión sufrida."
   ]
  },
  {
   "cell_type": "markdown",
   "id": "1b7df3d9",
   "metadata": {},
   "source": [
    "Podés ver [acá](https://github.com/mnrodriguez28/data-analysis-portfolio/blob/main/proyectos/eda-siniestros-viales/eda-siniestros-ii.md) la *Parte II: Víctimas de siniestros viales. Visualización de datos geográficos*."
   ]
  },
  {
   "cell_type": "markdown",
   "id": "85739aee",
   "metadata": {},
   "source": [
    "### Importando librerías y datos"
   ]
  },
  {
   "cell_type": "markdown",
   "id": "d7f4ee07",
   "metadata": {},
   "source": [
    "Primero, importamos las librerías de Python para análisis y visualizacion de los datos: Pandas, Matplotlib y Seaborn. Luego, importamos los datos con la función `read_csv()`."
   ]
  },
  {
   "cell_type": "code",
   "execution_count": 1,
   "id": "b2f25daf",
   "metadata": {},
   "outputs": [],
   "source": [
    "import pandas as pd\n",
    "import matplotlib.pyplot as plt\n",
    "from matplotlib.ticker import FuncFormatter\n",
    "import seaborn as sns \n",
    "sns.set_theme(style=\"whitegrid\")\n",
    "%matplotlib inline\n",
    "\n",
    "import warnings\n",
    "warnings.filterwarnings(\"ignore\")"
   ]
  },
  {
   "cell_type": "code",
   "execution_count": 2,
   "id": "67dbd35a",
   "metadata": {},
   "outputs": [],
   "source": [
    "df = pd.read_csv(\"victimas-siniestros-2015-2018.csv\")"
   ]
  },
  {
   "cell_type": "markdown",
   "id": "6dc02666",
   "metadata": {},
   "source": [
    "### Data Overview"
   ]
  },
  {
   "cell_type": "markdown",
   "id": "7ffbe96b",
   "metadata": {},
   "source": [
    "En esta sección, revisamos el dataset para entender los datos que tenemos. "
   ]
  },
  {
   "cell_type": "code",
   "execution_count": 3,
   "id": "3535aaf0",
   "metadata": {},
   "outputs": [
    {
     "data": {
      "text/html": [
       "<div>\n",
       "<style scoped>\n",
       "    .dataframe tbody tr th:only-of-type {\n",
       "        vertical-align: middle;\n",
       "    }\n",
       "\n",
       "    .dataframe tbody tr th {\n",
       "        vertical-align: top;\n",
       "    }\n",
       "\n",
       "    .dataframe thead th {\n",
       "        text-align: right;\n",
       "    }\n",
       "</style>\n",
       "<table border=\"1\" class=\"dataframe\">\n",
       "  <thead>\n",
       "    <tr style=\"text-align: right;\">\n",
       "      <th></th>\n",
       "      <th>causa</th>\n",
       "      <th>rol</th>\n",
       "      <th>tipo</th>\n",
       "      <th>sexo</th>\n",
       "      <th>edad</th>\n",
       "      <th>mes</th>\n",
       "      <th>periodo</th>\n",
       "      <th>fecha</th>\n",
       "      <th>hora</th>\n",
       "      <th>lugar_hecho</th>\n",
       "      <th>...</th>\n",
       "      <th>semestre</th>\n",
       "      <th>x</th>\n",
       "      <th>y</th>\n",
       "      <th>geom</th>\n",
       "      <th>cantidad_victimas</th>\n",
       "      <th>comuna</th>\n",
       "      <th>geom_3857</th>\n",
       "      <th>tipo_colision1</th>\n",
       "      <th>participantes_victimas</th>\n",
       "      <th>participantes_acusados</th>\n",
       "    </tr>\n",
       "  </thead>\n",
       "  <tbody>\n",
       "    <tr>\n",
       "      <th>0</th>\n",
       "      <td>homicidio</td>\n",
       "      <td>conductor</td>\n",
       "      <td>moto</td>\n",
       "      <td>NaN</td>\n",
       "      <td>NaN</td>\n",
       "      <td>2.0</td>\n",
       "      <td>2015</td>\n",
       "      <td>2/14/2015</td>\n",
       "      <td>19:00:00</td>\n",
       "      <td>cafayate y severo garcia grande de zequeira</td>\n",
       "      <td>...</td>\n",
       "      <td>1</td>\n",
       "      <td>-58.508658</td>\n",
       "      <td>-34.653489</td>\n",
       "      <td>0101000020E610000057E042B51B414DC008419885A553...</td>\n",
       "      <td>1</td>\n",
       "      <td>9.0</td>\n",
       "      <td>0101000020110F0000DE9B958180D858C1EC802966CD68...</td>\n",
       "      <td>motovehiculo - vehiculo</td>\n",
       "      <td>moto</td>\n",
       "      <td>automovil</td>\n",
       "    </tr>\n",
       "    <tr>\n",
       "      <th>1</th>\n",
       "      <td>homicidio</td>\n",
       "      <td>NaN</td>\n",
       "      <td>NaN</td>\n",
       "      <td>NaN</td>\n",
       "      <td>NaN</td>\n",
       "      <td>2.0</td>\n",
       "      <td>2015</td>\n",
       "      <td>2/25/2015</td>\n",
       "      <td>3:00:00</td>\n",
       "      <td>lugones, leopoldo av. y udaondo, guillermo av.</td>\n",
       "      <td>...</td>\n",
       "      <td>1</td>\n",
       "      <td>-58.447680</td>\n",
       "      <td>-34.543513</td>\n",
       "      <td>0101000020E6100000CC4C4C904D394DC0FAF382D99145...</td>\n",
       "      <td>1</td>\n",
       "      <td>13.0</td>\n",
       "      <td>0101000020110F0000BFBC457BDFD158C1E1DDA818C14B...</td>\n",
       "      <td>NaN</td>\n",
       "      <td>NaN</td>\n",
       "      <td>NaN</td>\n",
       "    </tr>\n",
       "    <tr>\n",
       "      <th>2</th>\n",
       "      <td>homicidio</td>\n",
       "      <td>peaton</td>\n",
       "      <td>peaton</td>\n",
       "      <td>femenino</td>\n",
       "      <td>NaN</td>\n",
       "      <td>2.0</td>\n",
       "      <td>2015</td>\n",
       "      <td>2/27/2015</td>\n",
       "      <td>8:00:00</td>\n",
       "      <td>avda jujuy y avda independencia</td>\n",
       "      <td>...</td>\n",
       "      <td>1</td>\n",
       "      <td>-58.403516</td>\n",
       "      <td>-34.618839</td>\n",
       "      <td>0101000020E6100000FBC35B67A6334DC03F854E1F364F...</td>\n",
       "      <td>1</td>\n",
       "      <td>3.0</td>\n",
       "      <td>0101000020110F0000F8067D6812CD58C189755F66A55F...</td>\n",
       "      <td>peaton - vehiculo</td>\n",
       "      <td>peaton</td>\n",
       "      <td>\"transporte publico\"</td>\n",
       "    </tr>\n",
       "    <tr>\n",
       "      <th>3</th>\n",
       "      <td>homicidio</td>\n",
       "      <td>NaN</td>\n",
       "      <td>NaN</td>\n",
       "      <td>NaN</td>\n",
       "      <td>NaN</td>\n",
       "      <td>3.0</td>\n",
       "      <td>2015</td>\n",
       "      <td>03-02-15</td>\n",
       "      <td>18:30:00</td>\n",
       "      <td>lavalle 1730</td>\n",
       "      <td>...</td>\n",
       "      <td>1</td>\n",
       "      <td>-58.391329</td>\n",
       "      <td>-34.603168</td>\n",
       "      <td>0101000020E6100000312FB20D17324DC064587D9E344D...</td>\n",
       "      <td>1</td>\n",
       "      <td>1.0</td>\n",
       "      <td>0101000020110F00005621683DBFCB58C10B59E69B815B...</td>\n",
       "      <td>NaN</td>\n",
       "      <td>NaN</td>\n",
       "      <td>NaN</td>\n",
       "    </tr>\n",
       "    <tr>\n",
       "      <th>4</th>\n",
       "      <td>homicidio</td>\n",
       "      <td>pasajero</td>\n",
       "      <td>camion</td>\n",
       "      <td>masculino</td>\n",
       "      <td>NaN</td>\n",
       "      <td>4.0</td>\n",
       "      <td>2015</td>\n",
       "      <td>04-09-15</td>\n",
       "      <td>1:20:00</td>\n",
       "      <td>ave salvador m del carril 2434</td>\n",
       "      <td>...</td>\n",
       "      <td>1</td>\n",
       "      <td>-58.492895</td>\n",
       "      <td>-34.587489</td>\n",
       "      <td>0101000020E61000009BDD7231173F4DC02D782AD7324B...</td>\n",
       "      <td>1</td>\n",
       "      <td>15.0</td>\n",
       "      <td>0101000020110F00006F2F76D4C9D658C1750825735D57...</td>\n",
       "      <td>vehiculo - vehiculo</td>\n",
       "      <td>camion</td>\n",
       "      <td>camion</td>\n",
       "    </tr>\n",
       "  </tbody>\n",
       "</table>\n",
       "<p>5 rows × 29 columns</p>\n",
       "</div>"
      ],
      "text/plain": [
       "       causa        rol    tipo       sexo  edad  mes  periodo      fecha  \\\n",
       "0  homicidio  conductor    moto        NaN   NaN  2.0     2015  2/14/2015   \n",
       "1  homicidio        NaN     NaN        NaN   NaN  2.0     2015  2/25/2015   \n",
       "2  homicidio     peaton  peaton   femenino   NaN  2.0     2015  2/27/2015   \n",
       "3  homicidio        NaN     NaN        NaN   NaN  3.0     2015   03-02-15   \n",
       "4  homicidio   pasajero  camion  masculino   NaN  4.0     2015   04-09-15   \n",
       "\n",
       "       hora                                     lugar_hecho  ... semestre  \\\n",
       "0  19:00:00     cafayate y severo garcia grande de zequeira  ...        1   \n",
       "1   3:00:00  lugones, leopoldo av. y udaondo, guillermo av.  ...        1   \n",
       "2   8:00:00                 avda jujuy y avda independencia  ...        1   \n",
       "3  18:30:00                                    lavalle 1730  ...        1   \n",
       "4   1:20:00                  ave salvador m del carril 2434  ...        1   \n",
       "\n",
       "           x          y                                               geom  \\\n",
       "0 -58.508658 -34.653489  0101000020E610000057E042B51B414DC008419885A553...   \n",
       "1 -58.447680 -34.543513  0101000020E6100000CC4C4C904D394DC0FAF382D99145...   \n",
       "2 -58.403516 -34.618839  0101000020E6100000FBC35B67A6334DC03F854E1F364F...   \n",
       "3 -58.391329 -34.603168  0101000020E6100000312FB20D17324DC064587D9E344D...   \n",
       "4 -58.492895 -34.587489  0101000020E61000009BDD7231173F4DC02D782AD7324B...   \n",
       "\n",
       "   cantidad_victimas comuna  \\\n",
       "0                  1    9.0   \n",
       "1                  1   13.0   \n",
       "2                  1    3.0   \n",
       "3                  1    1.0   \n",
       "4                  1   15.0   \n",
       "\n",
       "                                           geom_3857           tipo_colision1  \\\n",
       "0  0101000020110F0000DE9B958180D858C1EC802966CD68...  motovehiculo - vehiculo   \n",
       "1  0101000020110F0000BFBC457BDFD158C1E1DDA818C14B...                      NaN   \n",
       "2  0101000020110F0000F8067D6812CD58C189755F66A55F...        peaton - vehiculo   \n",
       "3  0101000020110F00005621683DBFCB58C10B59E69B815B...                      NaN   \n",
       "4  0101000020110F00006F2F76D4C9D658C1750825735D57...      vehiculo - vehiculo   \n",
       "\n",
       "  participantes_victimas  participantes_acusados  \n",
       "0                   moto               automovil  \n",
       "1                    NaN                     NaN  \n",
       "2                 peaton    \"transporte publico\"  \n",
       "3                    NaN                     NaN  \n",
       "4                 camion                  camion  \n",
       "\n",
       "[5 rows x 29 columns]"
      ]
     },
     "execution_count": 3,
     "metadata": {},
     "output_type": "execute_result"
    }
   ],
   "source": [
    "df.head(5)"
   ]
  },
  {
   "cell_type": "code",
   "execution_count": 4,
   "id": "e8887170",
   "metadata": {},
   "outputs": [
    {
     "data": {
      "text/plain": [
       "(33234, 29)"
      ]
     },
     "execution_count": 4,
     "metadata": {},
     "output_type": "execute_result"
    }
   ],
   "source": [
    "df.shape"
   ]
  },
  {
   "cell_type": "code",
   "execution_count": 5,
   "id": "4e9cda8c",
   "metadata": {},
   "outputs": [
    {
     "name": "stdout",
     "output_type": "stream",
     "text": [
      "<class 'pandas.core.frame.DataFrame'>\n",
      "RangeIndex: 33234 entries, 0 to 33233\n",
      "Data columns (total 29 columns):\n",
      " #   Column                        Non-Null Count  Dtype  \n",
      "---  ------                        --------------  -----  \n",
      " 0   causa                         33234 non-null  object \n",
      " 1   rol                           32899 non-null  object \n",
      " 2   tipo                          32134 non-null  object \n",
      " 3   sexo                          33037 non-null  object \n",
      " 4   edad                          32675 non-null  float64\n",
      " 5   mes                           33197 non-null  float64\n",
      " 6   periodo                       33234 non-null  int64  \n",
      " 7   fecha                         33173 non-null  object \n",
      " 8   hora                          33217 non-null  object \n",
      " 9   lugar_hecho                   29518 non-null  object \n",
      " 10  direccion_normalizada         32469 non-null  object \n",
      " 11  tipo_calle                    33234 non-null  object \n",
      " 12  direccion_normalizada_arcgis  32462 non-null  object \n",
      " 13  calle1                        32469 non-null  object \n",
      " 14  altura                        7111 non-null   float64\n",
      " 15  calle2                        24987 non-null  object \n",
      " 16  codigo_calle                  23944 non-null  float64\n",
      " 17  codigo_cruce                  20709 non-null  float64\n",
      " 18  geocodificacion               32139 non-null  object \n",
      " 19  semestre                      33234 non-null  int64  \n",
      " 20  x                             32139 non-null  float64\n",
      " 21  y                             32139 non-null  float64\n",
      " 22  geom                          32139 non-null  object \n",
      " 23  cantidad_victimas             33234 non-null  int64  \n",
      " 24  comuna                        32136 non-null  float64\n",
      " 25  geom_3857                     32139 non-null  object \n",
      " 26  tipo_colision1                31891 non-null  object \n",
      " 27  participantes_victimas        32103 non-null  object \n",
      " 28  participantes_acusados        32557 non-null  object \n",
      "dtypes: float64(8), int64(3), object(18)\n",
      "memory usage: 5.1+ MB\n"
     ]
    }
   ],
   "source": [
    "df.info()"
   ]
  },
  {
   "cell_type": "code",
   "execution_count": 6,
   "id": "cb1dc894",
   "metadata": {},
   "outputs": [
    {
     "data": {
      "text/plain": [
       "causa                               0\n",
       "rol                               335\n",
       "tipo                             1100\n",
       "sexo                              197\n",
       "edad                              559\n",
       "mes                                37\n",
       "periodo                             0\n",
       "fecha                              61\n",
       "hora                               17\n",
       "lugar_hecho                      3716\n",
       "direccion_normalizada             765\n",
       "tipo_calle                          0\n",
       "direccion_normalizada_arcgis      772\n",
       "calle1                            765\n",
       "altura                          26123\n",
       "calle2                           8247\n",
       "codigo_calle                     9290\n",
       "codigo_cruce                    12525\n",
       "geocodificacion                  1095\n",
       "semestre                            0\n",
       "x                                1095\n",
       "y                                1095\n",
       "geom                             1095\n",
       "cantidad_victimas                   0\n",
       "comuna                           1098\n",
       "geom_3857                        1095\n",
       "tipo_colision1                   1343\n",
       "participantes_victimas           1131\n",
       "participantes_acusados            677\n",
       "dtype: int64"
      ]
     },
     "execution_count": 6,
     "metadata": {},
     "output_type": "execute_result"
    }
   ],
   "source": [
    "df.isna().sum()"
   ]
  },
  {
   "cell_type": "markdown",
   "id": "11a011d3",
   "metadata": {},
   "source": [
    "El dataset contiene 33234 filas y 29 columnas. La mayoría de las columnas presentan valores nulos, y el tipo de dato en algunos casos (como en `fecha`, `hora`, `edad`, `periodo`) no es el indicado. Más adelante corregiremos los tipo de datos."
   ]
  },
  {
   "cell_type": "markdown",
   "id": "9106c0bd",
   "metadata": {},
   "source": [
    "### Análisis y visualización de datos"
   ]
  },
  {
   "cell_type": "markdown",
   "id": "c5eaa4d4",
   "metadata": {},
   "source": [
    "**1. ¿Cuál es la edad promedio de las víctimas?**"
   ]
  },
  {
   "cell_type": "code",
   "execution_count": 7,
   "id": "6141e486",
   "metadata": {},
   "outputs": [
    {
     "name": "stdout",
     "output_type": "stream",
     "text": [
      "36.4\n"
     ]
    }
   ],
   "source": [
    "edad_mean = df.edad.mean()\n",
    "print(round(edad_mean, 1))"
   ]
  },
  {
   "cell_type": "markdown",
   "id": "eea6779c",
   "metadata": {},
   "source": [
    "**2. ¿Cuál es promedio de víctimas en los siniestros viales?**"
   ]
  },
  {
   "cell_type": "markdown",
   "id": "cf1793b6",
   "metadata": {},
   "source": [
    "Dado que no hay un ID que relacione entre sí a las víctimas de un mismo siniestro vial, creamos uno utilizando el nombre de la calle, fecha y hora. Esto nos va a permitir calcular el promedio sin contar un mismo valor repetidamente (es decir, el valor de `cantidad_victimas` por cada víctima de un mismo accidente)."
   ]
  },
  {
   "cell_type": "code",
   "execution_count": 8,
   "id": "5d799a89",
   "metadata": {},
   "outputs": [
    {
     "data": {
      "text/html": [
       "<div>\n",
       "<style scoped>\n",
       "    .dataframe tbody tr th:only-of-type {\n",
       "        vertical-align: middle;\n",
       "    }\n",
       "\n",
       "    .dataframe tbody tr th {\n",
       "        vertical-align: top;\n",
       "    }\n",
       "\n",
       "    .dataframe thead th {\n",
       "        text-align: right;\n",
       "    }\n",
       "</style>\n",
       "<table border=\"1\" class=\"dataframe\">\n",
       "  <thead>\n",
       "    <tr style=\"text-align: right;\">\n",
       "      <th></th>\n",
       "      <th>lugar_hecho</th>\n",
       "      <th>fecha</th>\n",
       "      <th>hora</th>\n",
       "      <th>cantidad_victimas</th>\n",
       "    </tr>\n",
       "  </thead>\n",
       "  <tbody>\n",
       "    <tr>\n",
       "      <th>0</th>\n",
       "      <td>paysandu y tres arroyos</td>\n",
       "      <td>3/26/2015</td>\n",
       "      <td>14:20:00</td>\n",
       "      <td>1</td>\n",
       "    </tr>\n",
       "    <tr>\n",
       "      <th>1</th>\n",
       "      <td>11 de septiembre y vedia</td>\n",
       "      <td>1/15/2015</td>\n",
       "      <td>9:36:00</td>\n",
       "      <td>1</td>\n",
       "    </tr>\n",
       "    <tr>\n",
       "      <th>2</th>\n",
       "      <td>acceso colectora gral paz</td>\n",
       "      <td>11/18/2015</td>\n",
       "      <td>23:42:00</td>\n",
       "      <td>1</td>\n",
       "    </tr>\n",
       "    <tr>\n",
       "      <th>3</th>\n",
       "      <td>alcorta, amancio av. 3780</td>\n",
       "      <td>08-11-17</td>\n",
       "      <td>12:30:00</td>\n",
       "      <td>1</td>\n",
       "    </tr>\n",
       "    <tr>\n",
       "      <th>4</th>\n",
       "      <td>angel j carranza 1036</td>\n",
       "      <td>07-05-17</td>\n",
       "      <td>12:45:00</td>\n",
       "      <td>1</td>\n",
       "    </tr>\n",
       "    <tr>\n",
       "      <th>5</th>\n",
       "      <td>arribeñoz e ibera</td>\n",
       "      <td>12-09-15</td>\n",
       "      <td>21:56:00</td>\n",
       "      <td>1</td>\n",
       "    </tr>\n",
       "    <tr>\n",
       "      <th>6</th>\n",
       "      <td>av garay y matheu</td>\n",
       "      <td>06-02-15</td>\n",
       "      <td>19:00:00</td>\n",
       "      <td>1</td>\n",
       "    </tr>\n",
       "    <tr>\n",
       "      <th>7</th>\n",
       "      <td>av san juan y colombres</td>\n",
       "      <td>7/19/2015</td>\n",
       "      <td>4:04:00</td>\n",
       "      <td>1</td>\n",
       "    </tr>\n",
       "    <tr>\n",
       "      <th>8</th>\n",
       "      <td>av. cabildo y manuela pedraza</td>\n",
       "      <td>01-06-15</td>\n",
       "      <td>20:07:00</td>\n",
       "      <td>1</td>\n",
       "    </tr>\n",
       "    <tr>\n",
       "      <th>9</th>\n",
       "      <td>av. cramer y nuñez</td>\n",
       "      <td>1/13/2015</td>\n",
       "      <td>10:00:00</td>\n",
       "      <td>3</td>\n",
       "    </tr>\n",
       "    <tr>\n",
       "      <th>10</th>\n",
       "      <td>av. cramer y nuñez</td>\n",
       "      <td>9/14/2015</td>\n",
       "      <td>10:00:00</td>\n",
       "      <td>1</td>\n",
       "    </tr>\n",
       "    <tr>\n",
       "      <th>11</th>\n",
       "      <td>av. del libertador 8684</td>\n",
       "      <td>04-07-15</td>\n",
       "      <td>10:02:00</td>\n",
       "      <td>1</td>\n",
       "    </tr>\n",
       "    <tr>\n",
       "      <th>12</th>\n",
       "      <td>av. del libertador y gral paz</td>\n",
       "      <td>07-07-15</td>\n",
       "      <td>18:10:00</td>\n",
       "      <td>2</td>\n",
       "    </tr>\n",
       "    <tr>\n",
       "      <th>13</th>\n",
       "      <td>av. del libertador y nuñez</td>\n",
       "      <td>1/13/2015</td>\n",
       "      <td>12:30:00</td>\n",
       "      <td>1</td>\n",
       "    </tr>\n",
       "    <tr>\n",
       "      <th>14</th>\n",
       "      <td>av. escalada y av. castañares</td>\n",
       "      <td>5/17/2015</td>\n",
       "      <td>14:20:00</td>\n",
       "      <td>1</td>\n",
       "    </tr>\n",
       "  </tbody>\n",
       "</table>\n",
       "</div>"
      ],
      "text/plain": [
       "                              lugar_hecho       fecha      hora  \\\n",
       "0                 paysandu y tres arroyos   3/26/2015  14:20:00   \n",
       "1                11 de septiembre y vedia   1/15/2015   9:36:00   \n",
       "2               acceso colectora gral paz  11/18/2015  23:42:00   \n",
       "3               alcorta, amancio av. 3780    08-11-17  12:30:00   \n",
       "4                   angel j carranza 1036    07-05-17  12:45:00   \n",
       "5                       arribeñoz e ibera    12-09-15  21:56:00   \n",
       "6                       av garay y matheu    06-02-15  19:00:00   \n",
       "7                av san juan y colombres    7/19/2015   4:04:00   \n",
       "8           av. cabildo y manuela pedraza    01-06-15  20:07:00   \n",
       "9                      av. cramer y nuñez   1/13/2015  10:00:00   \n",
       "10                     av. cramer y nuñez   9/14/2015  10:00:00   \n",
       "11                av. del libertador 8684    04-07-15  10:02:00   \n",
       "12          av. del libertador y gral paz    07-07-15  18:10:00   \n",
       "13             av. del libertador y nuñez   1/13/2015  12:30:00   \n",
       "14          av. escalada y av. castañares   5/17/2015  14:20:00   \n",
       "\n",
       "    cantidad_victimas  \n",
       "0                   1  \n",
       "1                   1  \n",
       "2                   1  \n",
       "3                   1  \n",
       "4                   1  \n",
       "5                   1  \n",
       "6                   1  \n",
       "7                   1  \n",
       "8                   1  \n",
       "9                   3  \n",
       "10                  1  \n",
       "11                  1  \n",
       "12                  2  \n",
       "13                  1  \n",
       "14                  1  "
      ]
     },
     "execution_count": 8,
     "metadata": {},
     "output_type": "execute_result"
    }
   ],
   "source": [
    "df_vict_mean = df.groupby([\"lugar_hecho\", \"fecha\", \"hora\"]).count().reset_index()[[\"lugar_hecho\", \"fecha\", \"hora\", \"cantidad_victimas\"]]\n",
    "df_vict_mean.head(15)"
   ]
  },
  {
   "cell_type": "code",
   "execution_count": 9,
   "id": "bb34f201",
   "metadata": {},
   "outputs": [
    {
     "name": "stdout",
     "output_type": "stream",
     "text": [
      "1.1\n"
     ]
    }
   ],
   "source": [
    "victimas_mean = df_vict_mean[\"cantidad_victimas\"].mean()\n",
    "print(round(victimas_mean, 1))"
   ]
  },
  {
   "cell_type": "markdown",
   "id": "7d1f036c",
   "metadata": {},
   "source": [
    "**3. ¿Cuántos casos hubo por cada tipo de lesión sufrida?**\n"
   ]
  },
  {
   "cell_type": "code",
   "execution_count": 10,
   "id": "b100edff",
   "metadata": {},
   "outputs": [
    {
     "data": {
      "text/plain": [
       "lesiones     32795\n",
       "homicidio      439\n",
       "Name: causa, dtype: int64"
      ]
     },
     "execution_count": 10,
     "metadata": {},
     "output_type": "execute_result"
    }
   ],
   "source": [
    "df.causa.value_counts()"
   ]
  },
  {
   "cell_type": "markdown",
   "id": "ffeb0f6c",
   "metadata": {},
   "source": [
    "**4. ¿En qué tipo de vía se produjeron más accidentes?**"
   ]
  },
  {
   "cell_type": "code",
   "execution_count": 11,
   "id": "72b00df5",
   "metadata": {},
   "outputs": [
    {
     "data": {
      "text/plain": [
       "avenida      21395\n",
       "calle        11687\n",
       "autopista      152\n",
       "Name: tipo_calle, dtype: int64"
      ]
     },
     "execution_count": 11,
     "metadata": {},
     "output_type": "execute_result"
    }
   ],
   "source": [
    "df.tipo_calle.value_counts()"
   ]
  },
  {
   "cell_type": "markdown",
   "id": "1b1d7c52",
   "metadata": {},
   "source": [
    "**5. ¿Cuántos siniestros hubo por comuna?**"
   ]
  },
  {
   "cell_type": "code",
   "execution_count": 12,
   "id": "2a973965",
   "metadata": {},
   "outputs": [
    {
     "data": {
      "text/plain": [
       "1.0     4468\n",
       "3.0     3032\n",
       "15.0    2521\n",
       "14.0    2383\n",
       "4.0     2382\n",
       "9.0     2367\n",
       "7.0     2039\n",
       "11.0    2031\n",
       "13.0    1846\n",
       "12.0    1784\n",
       "10.0    1681\n",
       "5.0     1665\n",
       "8.0     1402\n",
       "6.0     1272\n",
       "2.0     1263\n",
       "Name: comuna, dtype: int64"
      ]
     },
     "execution_count": 12,
     "metadata": {},
     "output_type": "execute_result"
    }
   ],
   "source": [
    "df.comuna.value_counts()"
   ]
  },
  {
   "cell_type": "code",
   "execution_count": 13,
   "id": "03f89b3f",
   "metadata": {},
   "outputs": [
    {
     "data": {
      "image/png": "[encoded data removed]",
      "text/plain": [
       "<Figure size 432x288 with 1 Axes>"
      ]
     },
     "metadata": {
      "needs_background": "light"
     },
     "output_type": "display_data"
    }
   ],
   "source": [
    "sns.countplot(x=\"comuna\", data=df, palette = \"cubehelix\")\n",
    "plt.gca().xaxis.set_major_formatter(FuncFormatter(lambda x, _: (int(x)+1)))\n",
    "plt.ylabel(\"# siniestros\")\n",
    "plt.title(\"Cantidad de siniestros viales por comuna. 2015-2018\", loc = \"left\")\n",
    "plt.grid(True, ls = \"--\")"
   ]
  },
  {
   "cell_type": "markdown",
   "id": "2181b36c",
   "metadata": {},
   "source": [
    "**6. ¿Cuáles fueron los accidentes más frecuentes?**"
   ]
  },
  {
   "cell_type": "code",
   "execution_count": 14,
   "id": "80d5d22a",
   "metadata": {},
   "outputs": [
    {
     "data": {
      "text/plain": [
       "motovehiculo - vehiculo             8400\n",
       "vehiculo - vehiculo                 6384\n",
       "peaton - vehiculo                   4464\n",
       "multiple                            4285\n",
       "vehiculo - motovehiculo             2995\n",
       "motovehiculo - peaton               1429\n",
       "bicicleta - vehiculo                1384\n",
       "vehiculo - peaton                   1191\n",
       "motovehiculo - motovehiculo          622\n",
       "vehiculo - bicicleta                 394\n",
       "bicicleta - motovehiculo             193\n",
       "bicicleta - peaton                   116\n",
       "bicicleta - bicicleta                 19\n",
       "peaton - peaton                       10\n",
       "traccion a sangre - vehiculo           2\n",
       "motovehiculo - traccion a sangre       1\n",
       "motovehiculo - tren                    1\n",
       "subte - vehiculo                       1\n",
       "Name: tipo_colision1, dtype: int64"
      ]
     },
     "execution_count": 14,
     "metadata": {},
     "output_type": "execute_result"
    }
   ],
   "source": [
    "df.tipo_colision1.value_counts()"
   ]
  },
  {
   "cell_type": "markdown",
   "id": "6cf73427",
   "metadata": {},
   "source": [
    "Como algunos tipos de colisión se repiten en distinto orden (por ejemplo, `motovehiculo - vehiculo` y `vehiculo - motovehiculo`), se reemplazaron estas etiquetas por uno de estos nombres con el fin de agruparlas en el conteo de siniestros."
   ]
  },
  {
   "cell_type": "code",
   "execution_count": 15,
   "id": "e3acd1e5",
   "metadata": {},
   "outputs": [
    {
     "data": {
      "text/plain": [
       "motovehiculo - vehiculo             11395\n",
       "vehiculo - vehiculo                  6384\n",
       "peaton - vehiculo                    5655\n",
       "multiple                             4285\n",
       "bicicleta - vehiculo                 1778\n",
       "motovehiculo - peaton                1429\n",
       "motovehiculo - motovehiculo           622\n",
       "bicicleta - motovehiculo              193\n",
       "bicicleta - peaton                    116\n",
       "bicicleta - bicicleta                  19\n",
       "peaton - peaton                        10\n",
       "traccion a sangre - vehiculo            2\n",
       "subte - vehiculo                        1\n",
       "motovehiculo - tren                     1\n",
       "motovehiculo - traccion a sangre        1\n",
       "Name: tipo_colision1, dtype: int64"
      ]
     },
     "execution_count": 15,
     "metadata": {},
     "output_type": "execute_result"
    }
   ],
   "source": [
    "df_colision = df.copy()\n",
    "df_colision[\"tipo_colision1\"] = df_colision[\"tipo_colision1\"].replace([\"vehiculo - motovehiculo\"], \"motovehiculo - vehiculo\")\n",
    "df_colision[\"tipo_colision1\"] = df_colision[\"tipo_colision1\"].replace([\"vehiculo - peaton\"], \"peaton - vehiculo\")\n",
    "df_colision[\"tipo_colision1\"] = df_colision[\"tipo_colision1\"].replace([\"vehiculo - bicicleta\"], \"bicicleta - vehiculo\")\n",
    "\n",
    "df_colision.tipo_colision1.value_counts()"
   ]
  },
  {
   "cell_type": "markdown",
   "id": "8b7c2ab9",
   "metadata": {},
   "source": [
    "Ahora vemos que ninguna etiqueta se repite y, por ejemplo, `motovehiculo - vehiculo` contiene también el conteo de `vehiculo - motovehiculo`."
   ]
  },
  {
   "cell_type": "code",
   "execution_count": 16,
   "id": "1c4272c1",
   "metadata": {},
   "outputs": [
    {
     "data": {
      "image/png": "[encoded data removed]",
      "text/plain": [
       "<Figure size 720x432 with 1 Axes>"
      ]
     },
     "metadata": {
      "needs_background": "light"
     },
     "output_type": "display_data"
    }
   ],
   "source": [
    "df_top5 = df_colision.tipo_colision1.value_counts().head().reset_index()\n",
    "df_top5.rename(columns = {\"index\":\"tipo_colision\", \"tipo_colision1\":\"count\"}, inplace = True)\n",
    "\n",
    "plt.figure(figsize=(10, 6))\n",
    "sns.barplot(x=\"tipo_colision\" ,y=\"count\", data=df_top5, palette = \"flare\")\n",
    "plt.xlabel(\"Tipo de colisión\")\n",
    "plt.ylabel(\"# siniestros\")\n",
    "plt.title(\"Top 5 - Tipo de colisión. 2015-2018\", loc = \"left\")\n",
    "plt.grid(True, ls = \"--\")"
   ]
  },
  {
   "cell_type": "markdown",
   "id": "a4ce5da4",
   "metadata": {},
   "source": [
    "**7. ¿Cuántos siniestros hubo por año?**"
   ]
  },
  {
   "cell_type": "code",
   "execution_count": 17,
   "id": "2b74413d",
   "metadata": {},
   "outputs": [
    {
     "data": {
      "image/png": "[encoded data removed]",
      "text/plain": [
       "<Figure size 432x288 with 1 Axes>"
      ]
     },
     "metadata": {
      "needs_background": "light"
     },
     "output_type": "display_data"
    }
   ],
   "source": [
    "df_año = df.copy()\n",
    "df_año = df_año.groupby([\"periodo\"]).count().reset_index()\n",
    "df_año[\"año\"] = df_año[\"periodo\"].astype(str)\n",
    "\n",
    "plt.plot(df_año[\"año\"], df_año[\"causa\"], \"o-k\")\n",
    "plt.xlabel(\"Año\")\n",
    "plt.ylabel(\"# siniestros\")\n",
    "plt.title(\"Cantidad de siniestros viales por año. 2015-2018\", loc = \"left\")\n",
    "plt.grid(True, ls = \"--\")"
   ]
  },
  {
   "cell_type": "markdown",
   "id": "e8c60ab7",
   "metadata": {},
   "source": [
    "En los tres primeros años, la cantidad de accidentes se mantuvo estable (alrededor de 10000 por año) pero en el 2018 se observa un descenso, llegando a menos de 4000 casos. Indagando más sobre los datos, nos damos cuenta que este descenso se debe a que sólo se registraron datos durante primer semestre para el año 2018. Por esto, hacemos otro lineplot pero esta vez incluyendo la variable `semestre`."
   ]
  },
  {
   "cell_type": "code",
   "execution_count": 18,
   "id": "f6b841af",
   "metadata": {},
   "outputs": [],
   "source": [
    "df_sem = df.copy()\n",
    "df_sem = df_sem.groupby([\"periodo\", \"semestre\"]).count().reset_index()\n",
    "df_sem[\"año\"] = df_sem[\"periodo\"].astype(str)\n",
    "df_sem = df_sem.pivot(index = \"año\", columns = \"semestre\", values = \"causa\").reset_index()\n",
    "df_sem.rename({1:\"sem_1\", 2:\"sem_2\"}, axis = 1, inplace = True)"
   ]
  },
  {
   "cell_type": "code",
   "execution_count": 19,
   "id": "fa317ab6",
   "metadata": {
    "scrolled": true
   },
   "outputs": [
    {
     "data": {
      "image/png": "[encoded data removed]",
      "text/plain": [
       "<Figure size 432x288 with 1 Axes>"
      ]
     },
     "metadata": {
      "needs_background": "light"
     },
     "output_type": "display_data"
    }
   ],
   "source": [
    "plt.plot(df_año[\"año\"], df_año[\"causa\"], \"o-k\")\n",
    "plt.stackplot(df_sem[\"año\"], df_sem[\"sem_1\"], df_sem[\"sem_2\"], labels = [\"1° Semestre\", \"2° Semestre\"], alpha = 0.4, colors = [\"green\", \"limegreen\"])\n",
    "plt.legend(loc = \"upper right\")\n",
    "plt.xlabel(\"Año\")\n",
    "plt.ylabel(\"# siniestros\")\n",
    "plt.title(\"Cantidad de siniestros viales por año. 2015-2018\", loc = \"left\")\n",
    "plt.grid(True, ls = \"--\")"
   ]
  },
  {
   "cell_type": "markdown",
   "id": "670e54ff",
   "metadata": {},
   "source": [
    "Con este segundo gráfico vemos que hubo un descenso, aunque pequeño, en el año 2018 durante el primer semestre, en comparación con los tres primeros años."
   ]
  },
  {
   "cell_type": "markdown",
   "id": "711887bc",
   "metadata": {},
   "source": [
    "**8. ¿En qué horario se produjeron más accidentes?**"
   ]
  },
  {
   "cell_type": "code",
   "execution_count": 20,
   "id": "b48aaa05",
   "metadata": {},
   "outputs": [],
   "source": [
    "df_tiempo = df.copy()\n",
    "df_tiempo[\"hora\"] = pd.to_datetime(df_tiempo[\"hora\"], format = \"%H:%M:%S\").dt.hour\n",
    "df_tiempo = df_tiempo.groupby([\"hora\", \"periodo\"]).count().reset_index()[[\"hora\", \"causa\", \"periodo\"]]"
   ]
  },
  {
   "cell_type": "code",
   "execution_count": 21,
   "id": "d8930c06",
   "metadata": {},
   "outputs": [
    {
     "data": {
      "image/png": "[encoded data removed]",
      "text/plain": [
       "<Figure size 432x288 with 1 Axes>"
      ]
     },
     "metadata": {
      "needs_background": "light"
     },
     "output_type": "display_data"
    }
   ],
   "source": [
    "sns.lineplot(x=\"hora\", y=\"causa\", hue=\"periodo\", style=\"periodo\", data=df_tiempo)\n",
    "plt.xlabel(\"Hora\")\n",
    "plt.ylabel(\"# siniestros\")\n",
    "plt.title(\"Cantidad de siniestros viales por hora para cada año. 2015-2018\", loc = \"left\")\n",
    "plt.grid(True, ls = \"--\")"
   ]
  },
  {
   "cell_type": "markdown",
   "id": "7a82f911",
   "metadata": {},
   "source": [
    "En general, entre las 15:00 y las 18:00 hs., aproximadamente, fue el horario en el que se produjeron más accidentes de tránsito."
   ]
  },
  {
   "cell_type": "markdown",
   "id": "0a2e31ea",
   "metadata": {},
   "source": [
    "**9. ¿Cuál es la hora promedio en la que se produjeron más accidentes? ¿Y cuál es en la que se produjeron menos?**"
   ]
  },
  {
   "cell_type": "code",
   "execution_count": 22,
   "id": "c6200203",
   "metadata": {},
   "outputs": [],
   "source": [
    "df_hora = df.copy()\n",
    "df_hora[\"hora\"] = pd.to_datetime(df_hora[\"hora\"], format = \"%H:%M:%S\").dt.hour\n",
    "df_hora = df_hora.groupby([\"hora\"]).count().reset_index()[[\"hora\", \"causa\"]]"
   ]
  },
  {
   "cell_type": "code",
   "execution_count": 23,
   "id": "0ab6f6e0",
   "metadata": {},
   "outputs": [
    {
     "name": "stdout",
     "output_type": "stream",
     "text": [
      "    hora  causa\n",
      "18  18.0   2217\n"
     ]
    }
   ],
   "source": [
    "max_hora = df_hora[\"causa\"].max()\n",
    "print(df_hora[df_hora[\"causa\"] == max_hora])"
   ]
  },
  {
   "cell_type": "code",
   "execution_count": 24,
   "id": "ff28b90f",
   "metadata": {},
   "outputs": [
    {
     "name": "stdout",
     "output_type": "stream",
     "text": [
      "   hora  causa\n",
      "3   3.0    293\n"
     ]
    }
   ],
   "source": [
    "min_hora = df_hora[\"causa\"].min()\n",
    "print(df_hora[df_hora[\"causa\"] == min_hora])"
   ]
  },
  {
   "cell_type": "markdown",
   "id": "0dd9d57e",
   "metadata": {},
   "source": [
    "La hora promedio en la que se produjeron más siniestros viales fue a las 18:00 hs., mientras que a las 03:00 hs. se produjeron menos accidentes."
   ]
  }
 ],
 "metadata": {
  "kernelspec": {
   "display_name": "Python 3",
   "language": "python",
   "name": "python3"
  },
  "language_info": {
   "codemirror_mode": {
    "name": "ipython",
    "version": 3
   },
   "file_extension": ".py",
   "mimetype": "text/x-python",
   "name": "python",
   "nbconvert_exporter": "python",
   "pygments_lexer": "ipython3",
   "version": "3.8.8"
  }
 },
 "nbformat": 4,
 "nbformat_minor": 5
}
